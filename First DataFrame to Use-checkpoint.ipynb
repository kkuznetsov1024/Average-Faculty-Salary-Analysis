{
 "cells": [
  {
   "cell_type": "markdown",
   "metadata": {},
   "source": [
    "#### Allocating data to use for the project\n",
    "Content:\n",
    "1. Colleges names and locations\n",
    "2. SAT scores\n",
    "3. ACT scores\n",
    "4. Degrees awarded\n",
    "5. Age\n",
    "6. Salary"
   ]
  },
  {
   "cell_type": "code",
   "execution_count": 1,
   "metadata": {},
   "outputs": [],
   "source": [
    "import pandas as pd"
   ]
  },
  {
   "cell_type": "code",
   "execution_count": 3,
   "metadata": {},
   "outputs": [
    {
     "name": "stderr",
     "output_type": "stream",
     "text": [
      "C:\\Users\\kirat\\anaconda3\\lib\\site-packages\\IPython\\core\\interactiveshell.py:3071: DtypeWarning: Columns (9,1725,1726,1727,1728,1729,1743,1815,1816,1817,1818,1823,1824,1830,1831,1879,1880,1881,1882,1883,1884,1885,1886,1887,1888,1889,1890,1891,1892,1893,1894,1895,1896,1897,1898,1909,1910,1911,1912,1913,1957,1958,1959,1960,1961,1962,1963,1964,1965,1966,1967,1968,1969,1970,1971,1972,1973,1974,1975,1976,1983,1984,2376,2377) have mixed types.Specify dtype option on import or set low_memory=False.\n",
      "  has_raised = await self.run_ast_nodes(code_ast.body, cell_name,\n"
     ]
    }
   ],
   "source": [
    "df1 = pd.read_csv(r'C:\\Users\\kirat\\Documents\\Career Foundry\\Personal Project\\02 Data\\Original Data\\MERGED2018_19_PP.csv', index_col = False)"
   ]
  },
  {
   "cell_type": "code",
   "execution_count": 4,
   "metadata": {},
   "outputs": [
    {
     "name": "stdout",
     "output_type": "stream",
     "text": [
      "<class 'pandas.core.frame.DataFrame'>\n",
      "RangeIndex: 6806 entries, 0 to 6805\n",
      "Columns: 2383 entries, UNITID to FEDSCHCD\n",
      "dtypes: float64(1977), int64(14), object(392)\n",
      "memory usage: 123.7+ MB\n"
     ]
    }
   ],
   "source": [
    "df1.info()"
   ]
  },
  {
   "cell_type": "code",
   "execution_count": 5,
   "metadata": {},
   "outputs": [
    {
     "data": {
      "text/plain": [
       "(6806, 2383)"
      ]
     },
     "execution_count": 5,
     "metadata": {},
     "output_type": "execute_result"
    }
   ],
   "source": [
    "df1.shape"
   ]
  },
  {
   "cell_type": "code",
   "execution_count": 7,
   "metadata": {},
   "outputs": [],
   "source": [
    "df_use = df1[['UNITID','INSTNM','CITY','STABBR','ZIP','ACCREDAGENCY','NUMBRANCH','PREDDEG','HIGHDEG','CCSIZSET','ADM_RATE',\n",
    "              'LOCALE','SATVRMID','SATMTMID','SATWRMID','ACTCMMID','ACTENMID','ACTMTMID',\n",
    "             'ACTWRMID','ICLEVEL','AGE_ENTRY','GRAD_DEBT_MDN','AVGFACSAL','PFTFAC','CURROPER']]"
   ]
  },
  {
   "cell_type": "code",
   "execution_count": 8,
   "metadata": {},
   "outputs": [
    {
     "data": {
      "text/plain": [
       "(6806, 25)"
      ]
     },
     "execution_count": 8,
     "metadata": {},
     "output_type": "execute_result"
    }
   ],
   "source": [
    "df_use.shape"
   ]
  },
  {
   "cell_type": "code",
   "execution_count": 9,
   "metadata": {
    "scrolled": false
   },
   "outputs": [
    {
     "name": "stdout",
     "output_type": "stream",
     "text": [
      "<class 'pandas.core.frame.DataFrame'>\n",
      "RangeIndex: 6806 entries, 0 to 6805\n",
      "Data columns (total 25 columns):\n",
      " #   Column         Non-Null Count  Dtype  \n",
      "---  ------         --------------  -----  \n",
      " 0   UNITID         6806 non-null   int64  \n",
      " 1   INSTNM         6806 non-null   object \n",
      " 2   CITY           6806 non-null   object \n",
      " 3   STABBR         6806 non-null   object \n",
      " 4   ZIP            6806 non-null   object \n",
      " 5   ACCREDAGENCY   6452 non-null   object \n",
      " 6   NUMBRANCH      6806 non-null   int64  \n",
      " 7   PREDDEG        6806 non-null   int64  \n",
      " 8   HIGHDEG        6806 non-null   int64  \n",
      " 9   CCSIZSET       6331 non-null   float64\n",
      " 10  ADM_RATE       2006 non-null   float64\n",
      " 11  LOCALE         6331 non-null   float64\n",
      " 12  SATVRMID       1239 non-null   float64\n",
      " 13  SATMTMID       1242 non-null   float64\n",
      " 14  SATWRMID       0 non-null      float64\n",
      " 15  ACTCMMID       1273 non-null   float64\n",
      " 16  ACTENMID       1199 non-null   float64\n",
      " 17  ACTMTMID       1199 non-null   float64\n",
      " 18  ACTWRMID       0 non-null      float64\n",
      " 19  ICLEVEL        6806 non-null   int64  \n",
      " 20  AGE_ENTRY      0 non-null      float64\n",
      " 21  GRAD_DEBT_MDN  6685 non-null   object \n",
      " 22  AVGFACSAL      4012 non-null   float64\n",
      " 23  PFTFAC         3623 non-null   float64\n",
      " 24  CURROPER       6806 non-null   int64  \n",
      "dtypes: float64(13), int64(6), object(6)\n",
      "memory usage: 1.3+ MB\n"
     ]
    }
   ],
   "source": [
    "df_use.info()"
   ]
  },
  {
   "cell_type": "code",
   "execution_count": 10,
   "metadata": {},
   "outputs": [],
   "source": [
    "df_use.to_csv(r'C:\\Users\\kirat\\Documents\\Career Foundry\\Personal Project\\02 Data\\Prepared Data\\data_foruse.csv', index = False)"
   ]
  },
  {
   "cell_type": "code",
   "execution_count": 11,
   "metadata": {},
   "outputs": [
    {
     "data": {
      "text/plain": [
       "count    3623.000000\n",
       "mean        0.593839\n",
       "std         0.290545\n",
       "min         0.000000\n",
       "25%         0.342700\n",
       "50%         0.569600\n",
       "75%         0.882150\n",
       "max         1.000000\n",
       "Name: PFTFAC, dtype: float64"
      ]
     },
     "execution_count": 11,
     "metadata": {},
     "output_type": "execute_result"
    }
   ],
   "source": [
    "df_use.PFTFAC.describe()"
   ]
  },
  {
   "cell_type": "code",
   "execution_count": 12,
   "metadata": {},
   "outputs": [
    {
     "data": {
      "text/plain": [
       "count     4012.000000\n",
       "mean      6858.799103\n",
       "std       2534.714614\n",
       "min          0.000000\n",
       "25%       5200.750000\n",
       "50%       6574.000000\n",
       "75%       8198.500000\n",
       "max      20484.000000\n",
       "Name: AVGFACSAL, dtype: float64"
      ]
     },
     "execution_count": 12,
     "metadata": {},
     "output_type": "execute_result"
    }
   ],
   "source": [
    "df_use.AVGFACSAL.describe()"
   ]
  },
  {
   "cell_type": "code",
   "execution_count": 13,
   "metadata": {},
   "outputs": [
    {
     "data": {
      "text/plain": [
       "count                  6685\n",
       "unique                 1852\n",
       "top       PrivacySuppressed\n",
       "freq                   1378\n",
       "Name: GRAD_DEBT_MDN, dtype: object"
      ]
     },
     "execution_count": 13,
     "metadata": {},
     "output_type": "execute_result"
    }
   ],
   "source": [
    "df_use.GRAD_DEBT_MDN.describe()"
   ]
  },
  {
   "cell_type": "code",
   "execution_count": null,
   "metadata": {},
   "outputs": [],
   "source": []
  }
 ],
 "metadata": {
  "kernelspec": {
   "display_name": "Python 3",
   "language": "python",
   "name": "python3"
  },
  "language_info": {
   "codemirror_mode": {
    "name": "ipython",
    "version": 3
   },
   "file_extension": ".py",
   "mimetype": "text/x-python",
   "name": "python",
   "nbconvert_exporter": "python",
   "pygments_lexer": "ipython3",
   "version": "3.8.3"
  }
 },
 "nbformat": 4,
 "nbformat_minor": 4
}
